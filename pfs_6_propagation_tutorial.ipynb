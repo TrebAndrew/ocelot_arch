{
 "cells": [
  {
   "cell_type": "markdown",
   "metadata": {},
   "source": [
    "*This notebook was created by Svitozar Serkez, Andrei Trebushinin (andrei.trebushinin@xfel.eu) and Mykola Veremchuk. Source and license info is on [GitHub](https://github.com/ocelot-collab/ocelot). February 2020.*"
   ]
  },
  {
   "cell_type": "markdown",
   "metadata": {},
   "source": [
    "## Tutorial on the radiation field propagation and grid resizing"
   ]
  },
  {
   "cell_type": "code",
   "execution_count": 23,
   "metadata": {},
   "outputs": [
    {
     "data": {
      "application/javascript": [
       "MathJax.Hub.Config({\n",
       "    TeX: { equationNumbers: { autoNumber: \"AMS\" } }\n",
       "});\n"
      ],
      "text/plain": [
       "<IPython.core.display.Javascript object>"
      ]
     },
     "metadata": {},
     "output_type": "display_data"
    }
   ],
   "source": [
    "%%javascript #for numbering equations\n",
    "MathJax.Hub.Config({\n",
    "    TeX: { equationNumbers: { autoNumber: \"AMS\" } }\n",
    "});"
   ]
  },
  {
   "cell_type": "markdown",
   "metadata": {},
   "source": [
    "Here we give an easy way of derivation a free space propagation used in OCELOT code based on direct usage of the Maxwell equation.\n",
    "\n",
    "\\begin{align}\n",
    "\\nabla \\times \\vec{\\mathbf{B}} -\\, \\frac1c\\, \\frac{\\partial\\vec{\\mathbf{E}}}{\\partial t} & = \\frac{4\\pi}{c}\n",
    "\\vec{\\mathbf{j}} \\\\   \\nabla \\cdot \\vec{\\mathbf{E}} & = 4 \\pi \\rho \\\\\n",
    "\\nabla \\times \\vec{\\mathbf{E}}\\, +\\, \\frac1c\\, \\frac{\\partial\\vec{\\mathbf{B}}}{\\partial t} & = \\vec{\\mathbf{0}} \\\\\n",
    "\\nabla \\cdot \\vec{\\mathbf{B}} & = 0\n",
    "\\end{align}\n",
    "\n",
    "We start for the Helmholtz equation obtained be acting $\\nabla \\times$ operator on the $rot(\\vec{H}) = -\\cfrac{1}  {c}\\cfrac{\\partial{\\vec{E}}}{\\partial{t}}$ and substituting $\\cfrac{\\partial{\\vec{E}}}{\\partial{t}}$ from the other Maxwell equation. The derivation can be found in every lecture on classical electrodynamics.\n",
    "\n",
    "\\begin{equation}\n",
    "    c^2 \\nabla^2 \\vec{E} - \\cfrac{\\partial^2{\\vec{E}}}{\\partial{t}^2} = 0\n",
    "    \\label{eq:Fourier_rt}\n",
    "\\end{equation}"
   ]
  },
  {
   "cell_type": "markdown",
   "metadata": {},
   "source": [
    "Here we give Fourier transform defenition for time-frequence domains\n",
    "\n",
    "$\\vec{\\hat{E}}(\\omega, x, y, z) = \\mathcal{F_{\\omega t}}[\\vec{E}(t, x, y, z)] =  \\displaystyle\\int\\limits_{-\\infty}^{\\infty} d\\omega \\vec{E}(t, x, y, z)\\exp[i\\omega t]$\n",
    "\n",
    "$\\vec{E}(t, x, y, z) = \\mathcal{F_{\\omega t}^{-1}}[\\vec{\\hat{E}}(\\omega, x, y, z)]=  \\cfrac{1}{2\\pi} \\displaystyle\\int\\limits_{-\\infty}^{\\infty} dt \\vec{\\hat{E}}(\\omega, x, y, z)\\exp[i\\omega t]$\n",
    "\n",
    "substituteng the last one and use Leibniz integral rule we obtain\n",
    "\\begin{equation}\n",
    "    c^2 \\nabla^2 \\vec{E} + k_{0}^2{\\vec{E}} = 0,\n",
    "    \\label{eq:Fourier_rw}\n",
    "\\end{equation}\n",
    "\n",
    "where $k_0 = \\omega/c$."
   ]
  },
  {
   "cell_type": "markdown",
   "metadata": {},
   "source": [
    "Fourier transform defenition for spacial domains\n",
    "\n",
    "$\\vec{\\overline{E}}(\\omega, k_x, k_y, z) = \\mathcal{F_{kr}}[\\vec{\\hat{E}}(\\omega, x, y, z)] =  \\displaystyle\\int\\limits_{-\\infty}^{\\infty} dx dy\\vec{\\hat{E}}(\\omega, x, y, z)\\exp[ik_x x + ik_y y)]$\n",
    "\n",
    "$\\vec{\\hat{E}}(\\omega, x, y, z) = \\mathcal{F_{kr}^{-1}}[\\vec{\\overline{E}}(\\omega, k_x, k_y, z)]=  \\cfrac{1}{(2\\pi)^2} \\displaystyle\\int\\limits_{-\\infty}^{\\infty} dxdy \\vec{\\hat{\\overline{E}}}(\\omega, k_x, k_y, z)\\exp[-ik_x x - ik_y y)]$\n",
    "\n",
    "\\begin{equation}\n",
    "   \\cfrac{d^2\\vec{\\overline{E}}}{dz^2} + k_{0}^2\\bigg(1 - \\cfrac{k_x^2}{k_0^2} - \\cfrac{k_y^2}{k_0^2} \\bigg){\\vec{\\overline{E}}} = 0,\n",
    "    \\label{eq:Fourier_kw}\n",
    "\\end{equation}\n"
   ]
  },
  {
   "cell_type": "markdown",
   "metadata": {},
   "source": [
    "solving the ordinary differential equation with inital condition ${\\vec{\\overline{E}}(\\omega, k_x, k_y, 0)}$ we have\n",
    "\n",
    "\\begin{equation}\n",
    "{\\vec{\\overline{E}}(\\omega, k_x, k_y, z)} = {\\vec{\\overline{E}}(\\omega, k_x, k_y, 0)}\\exp{\\bigg[ik_0z\\bigg(1 - \\cfrac{k_x^2}{k_0^2} - \\cfrac{k_y^2}{k_0^2} \\bigg)\\bigg]}, \n",
    "\\end{equation}\n",
    "\n",
    "which is our solution for the wavefrom propogation problem.\n"
   ]
  },
  {
   "cell_type": "markdown",
   "metadata": {},
   "source": [
    "next we will consider some aproximations and limitations\n",
    "\n",
    "1) from the solution seen that there are not limitation on $k_x, k_y$\n",
    "\n",
    "2) for the numerical simulation we can boost calculation leaving the field in time domain only, in such a way we reducing number of Fourier transforms needed for an itteration. \n",
    "\n",
    "but we assume no angular dispersion (true for plain FEL radiation) and\n",
    "\n",
    "assume narrow spectrum at center of xlamds (true for plain FEL radiation) in other words we expect the field to be\n",
    "\n",
    "$\\vec{\\hat{E}}(\\omega, x, y, z) = \\vec{\\hat{E}}_0(x, y, z)\\delta{(\\omega - \\omega_0)}$ where $\\omega_0$ is a carrier frequency.\n",
    "\n",
    "for the full simulations we can handel wide spectrum e.g. every slice in freq.domain is propagated according to its frequency"
   ]
  },
  {
   "cell_type": "markdown",
   "metadata": {},
   "source": [
    "Below, we present the sceleton of the wave front propagation function. "
   ]
  },
  {
   "cell_type": "code",
   "execution_count": 26,
   "metadata": {},
   "outputs": [],
   "source": [
    "import logging\n",
    "import ocelot\n",
    "from ocelot.common.globals import *\n",
    "from ocelot.optics.wave import RadiationField, dfl_waistscan\n",
    "from ocelot.optics.wave import imitate_sase_dfl, wigner_dfl, dfl_waistscan, generate_gaussian_dfl, dfl_ap_rect, dfl_ap_circ, dfl_interp, wigner_dfl, wigner_smear, dfl_chirp_freq\n",
    "from ocelot.gui.dfl_plot import plot_dfl, plot_wigner, plot_dfl_waistscan\n",
    "from copy import deepcopy\n",
    "from ocelot import ocelog\n",
    "\n",
    "ocelog.setLevel(logging.WARNING)\n",
    "#ocelog.setLevel(logging.DEBUG)\n",
    "#ocelog.setLevel(logging.INFO)"
   ]
  },
  {
   "cell_type": "code",
   "execution_count": 25,
   "metadata": {},
   "outputs": [],
   "source": [
    "\n",
    "E_pohoton = 1239.8 #200 #central photon energy [eV]\n",
    "kwargs={'xlamds':(h_eV_s * speed_of_light / E_pohoton), #[m] - central wavelength\n",
    "        'rho':1.0e-4, \n",
    "        'shape':(101,101,1),             #(x,y,z) shape of field matrix (reversed) to dfl.fld\n",
    "        'dgrid':(400e-5,400e-5,35e-6), #(x,y,z) [m] - size of field matrix\n",
    "        'power_rms':(25e-5,25e-5,4e-6),#(x,y,z) [m] - rms size of the radiation distribution (gaussian)\n",
    "        'power_center':(0,0,None),     #(x,y,z) [m] - position of the radiation distribution\n",
    "        'power_angle':(0,0),           #(x,y) [rad] - angle of further radiation propagation\n",
    "        'power_waistpos':(0,0),        #(Z_x,Z_y) [m] downstrean location of the waist of the beam\n",
    "        'wavelength':None,             #central frequency of the radiation, if different from xlamds\n",
    "        'zsep':None,                   #distance between slices in z as zsep*xlamds\n",
    "        'freq_chirp':0,                #dw/dt=[1/fs**2] - requency chirp of the beam around power_center[2]\n",
    "        'en_pulse':None,                #total energy or max power of the pulse, use only one\n",
    "        'power':1e6,\n",
    "        }\n",
    "\n",
    "dfl = generate_gaussian_dfl(**kwargs);  #Gaussian beam defenition"
   ]
  },
  {
   "cell_type": "code",
   "execution_count": null,
   "metadata": {},
   "outputs": [],
   "source": []
  },
  {
   "cell_type": "code",
   "execution_count": null,
   "metadata": {},
   "outputs": [],
   "source": []
  }
 ],
 "metadata": {
  "kernelspec": {
   "display_name": "Python 3",
   "language": "python",
   "name": "python3"
  },
  "language_info": {
   "codemirror_mode": {
    "name": "ipython",
    "version": 3
   },
   "file_extension": ".py",
   "mimetype": "text/x-python",
   "name": "python",
   "nbconvert_exporter": "python",
   "pygments_lexer": "ipython3",
   "version": "3.7.3"
  }
 },
 "nbformat": 4,
 "nbformat_minor": 2
}
