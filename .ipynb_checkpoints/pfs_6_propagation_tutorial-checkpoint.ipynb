{
 "cells": [
  {
   "cell_type": "markdown",
   "metadata": {},
   "source": [
    "*This notebook was created by Svitozar Serkez, Andrei Trebushinin (andrei.trebushinin@xfel.eu) and Mykola Veremchuk. Source and license info is on [GitHub](https://github.com/ocelot-collab/ocelot). February 2020.*"
   ]
  },
  {
   "cell_type": "markdown",
   "metadata": {},
   "source": [
    "## Tutorial on the radiation field propogation and grid resizing"
   ]
  },
  {
   "cell_type": "code",
   "execution_count": 6,
   "metadata": {},
   "outputs": [],
   "source": [
    "import logging\n",
    "import ocelot\n",
    "from ocelot.common.globals import *\n",
    "from ocelot.optics.wave import RadiationField, dfl_waistscan\n",
    "from ocelot.optics.wave import imitate_sase_dfl, wigner_dfl, dfl_waistscan, generate_gaussian_dfl, dfl_ap_rect, dfl_ap_circ, dfl_interp, wigner_dfl, wigner_smear, dfl_chirp_freq\n",
    "from ocelot.gui.dfl_plot import plot_dfl, plot_wigner, plot_dfl_waistscan\n",
    "from copy import deepcopy\n",
    "from ocelot import ocelog\n",
    "\n",
    "ocelog.setLevel(logging.WARNING)\n",
    "#ocelog.setLevel(logging.DEBUG)\n",
    "#ocelog.setLevel(logging.INFO)\n",
    "\n"
   ]
  },
  {
   "cell_type": "code",
   "execution_count": 7,
   "metadata": {},
   "outputs": [
    {
     "data": {
      "application/javascript": [
       "MathJax.Hub.Config({\n",
       "    TeX: { equationNumbers: { autoNumber: \"AMS\" } }\n",
       "});\n"
      ],
      "text/plain": [
       "<IPython.core.display.Javascript object>"
      ]
     },
     "metadata": {},
     "output_type": "display_data"
    }
   ],
   "source": [
    "%%javascript #for numbering equations\n",
    "MathJax.Hub.Config({\n",
    "    TeX: { equationNumbers: { autoNumber: \"AMS\" } }\n",
    "});"
   ]
  },
  {
   "cell_type": "markdown",
   "metadata": {},
   "source": [
    "Here we give an easy way of derivation a free space propogator used in OCELOT code based on direct usage of the Maxwell equation.\n",
    "\n",
    "\\begin{align}\n",
    "\\nabla \\times \\vec{\\mathbf{B}} -\\, \\frac1c\\, \\frac{\\partial\\vec{\\mathbf{E}}}{\\partial t} & = \\frac{4\\pi}{c}\n",
    "\\vec{\\mathbf{j}} \\\\   \\nabla \\cdot \\vec{\\mathbf{E}} & = 4 \\pi \\rho \\\\\n",
    "\\nabla \\times \\vec{\\mathbf{E}}\\, +\\, \\frac1c\\, \\frac{\\partial\\vec{\\mathbf{B}}}{\\partial t} & = \\vec{\\mathbf{0}} \\\\\n",
    "\\nabla \\cdot \\vec{\\mathbf{B}} & = 0\n",
    "\\end{align}\n",
    "\n",
    "We start for the Helmholtz equation obtained be acting $\\nabla \\times$ operator on the $rot(\\vec{H}) = -\\cfrac{1}  {c}\\cfrac{\\partial{\\vec{E}}}{\\partial{t}}$ and sabstituting $\\cfrac{\\partial{\\vec{E}}}{\\partial{t}}$ from the other Maxwell equation. The derivation can be found in every lecture on clasical electrodinamic.\n",
    "\n",
    "\\begin{equation}\n",
    "    c^2 \\nabla^2 \\vec{E} - \\cfrac{\\partial^2{\\vec{E}}}{\\partial{t}^2} = 0\n",
    "    \\label{eq:Fourier_rt}\n",
    "\\end{equation}\n",
    "\n",
    "Here we give Fourier transform defenition for time-frequence domains\n",
    "\n",
    "$\\vec{\\hat{E}}(\\omega, x, y, z) = \\mathcal{F_{\\omega t}}[\\vec{E}(t, x, y, z)] =  \\displaystyle\\int\\limits_{-\\infty}^{\\infty} d\\omega \\vec{E}(t, x, y, z)\\exp[i\\omega t]$\n",
    "\n",
    "$\\vec{E}(t, x, y, z) = \\mathcal{F_{\\omega t}^{-1}}[\\vec{\\hat{E}}(\\omega, x, y, z)]=  \\cfrac{1}{2\\pi} \\displaystyle\\int\\limits_{-\\infty}^{\\infty} dt \\vec{\\hat{E}}(\\omega, x, y, z)\\exp[i\\omega t]$\n",
    "\n",
    "substituteng the last one and use Leibniz integral rule we obtain\n",
    "\\begin{equation}\n",
    "    c^2 \\nabla^2 \\vec{E} + k_{0}^2{\\vec{E}} = 0,\n",
    "    \\label{eq:Fourier_rw}\n",
    "\\end{equation}\n",
    "\n",
    "where $k_0 = \\omega/c$.\n",
    "\n",
    "$\\vec{\\hat{E}}(\\omega, x, y, z) = \\mathcal{F_{\\omega t}}[\\vec{E}(t, x, y, z)] =  \\displaystyle\\int\\limits_{-\\infty}^{\\infty} d\\omega \\vec{E}(t, x, y, z)\\exp[i\\omega t]$\n",
    "\n",
    "$\\vec{E}(t, x, y, z) = \\mathcal{F_{\\omega t}^{-1}}[\\vec{\\hat{E}}(\\omega, x, y, z)]=  \\cfrac{1}{2\\pi} \\displaystyle\\int\\limits_{-\\infty}^{\\infty} dt \\vec{\\hat{E}}(\\omega, x, y, z)\\exp[-i\\omega t]$\n",
    " \n",
    "Fourier transform defenition for spacial domains\n",
    "\n",
    "$\\vec{\\overline{E}}(\\omega, k_x, k_y, z) = \\mathcal{F_{kr}}[\\vec{\\hat{E}}(\\omega, x, y, z)] =  \\displaystyle\\int\\limits_{-\\infty}^{\\infty} dx dy\\vec{\\hat{E}}(\\omega, x, y, z)\\exp[ik_x x + ik_y y)]$\n",
    "\n",
    "$\\vec{\\hat{E}}(\\omega, x, y, z) = \\mathcal{F_{kr}^{-1}}[\\vec{\\overline{E}}(\\omega, k_x, k_y, z)]=  \\cfrac{1}{(2\\pi)^2} \\displaystyle\\int\\limits_{-\\infty}^{\\infty} dxdy \\vec{\\hat{\\overline{E}}}(\\omega, k_x, k_y, z)\\exp[-ik_x x - ik_y y)]$\n",
    "\n",
    "\\begin{equation}\n",
    "   \\cfrac{d^2\\vec{\\overline{E}}}{dz^2} + k_{0}^2\\bigg(1 - \\cfrac{k_x^2}{k_0^2} - \\cfrac{k_y^2}{k_0^2} \\bigg){\\vec{\\overline{E}}} = 0,\n",
    "    \\label{eq:Fourier_kw}\n",
    "\\end{equation}\n",
    "\n",
    "solving the ordinary differential equation with inital condition ${\\vec{\\overline{E}}(\\omega, k_x, k_y, 0)}$ we have\n",
    "${\\vec{\\overline{E}}(\\omega, k_x, k_y, z)}$ = ${\\vec{\\overline{E}}(\\omega, k_x, k_y, 0)}$ $\\exp{\\bigg[\\bigg(1 - \\cfrac{k_x^2}{k_0^2} - \\cfrac{k_y^2}{k_0^2} \\bigg)\\bigg]}$\n"
   ]
  },
  {
   "cell_type": "code",
   "execution_count": null,
   "metadata": {},
   "outputs": [],
   "source": []
  }
 ],
 "metadata": {
  "kernelspec": {
   "display_name": "Python 3",
   "language": "python",
   "name": "python3"
  },
  "language_info": {
   "codemirror_mode": {
    "name": "ipython",
    "version": 3
   },
   "file_extension": ".py",
   "mimetype": "text/x-python",
   "name": "python",
   "nbconvert_exporter": "python",
   "pygments_lexer": "ipython3",
   "version": "3.7.3"
  }
 },
 "nbformat": 4,
 "nbformat_minor": 2
}
